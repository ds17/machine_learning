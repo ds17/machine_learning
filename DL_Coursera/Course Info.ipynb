{
 "cells": [
  {
   "cell_type": "markdown",
   "metadata": {},
   "source": [
    "# Deep Learning Specialization\n",
    "[Homepage](https://www.coursera.org/specializations/deep-learning#courses)\n",
    "\n",
    "[Coursra Hub](https://hub.coursera-notebooks.org/user/kpnnhdgewrqxkvqxuykncn/tree)\n",
    "\n",
    "1. Neural Networks and Deep Learning\n",
    "2. Improving Deep Neural Networks:Hyperparameter tuning, Regularization and Optimization\n",
    "3. Structuring Machine Learning Projects"
   ]
  },
  {
   "cell_type": "markdown",
   "metadata": {},
   "source": [
    "# Neural Networks and Deep Learning\n",
    "\n",
    "[Course Page](https://www.coursera.org/learn/neural-networks-deep-learning/home/welcome)"
   ]
  },
  {
   "cell_type": "code",
   "execution_count": null,
   "metadata": {
    "collapsed": true
   },
   "outputs": [],
   "source": []
  }
 ],
 "metadata": {
  "kernelspec": {
   "display_name": "Python 3",
   "language": "python",
   "name": "python3"
  },
  "language_info": {
   "codemirror_mode": {
    "name": "ipython",
    "version": 3
   },
   "file_extension": ".py",
   "mimetype": "text/x-python",
   "name": "python",
   "nbconvert_exporter": "python",
   "pygments_lexer": "ipython3",
   "version": "3.5.3"
  }
 },
 "nbformat": 4,
 "nbformat_minor": 2
}
