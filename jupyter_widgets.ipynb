{
 "cells": [
  {
   "cell_type": "markdown",
   "metadata": {},
   "source": [
    "[Jupyter widgets](http://jupyter.org/widgets.html)"
   ]
  },
  {
   "cell_type": "markdown",
   "metadata": {},
   "source": [
    "## ipyleaflet\n",
    "Geo_spatial_analytics"
   ]
  },
  {
   "cell_type": "markdown",
   "metadata": {},
   "source": [
    "```conda\n",
    "conda install ipyleaflet\n",
    "jupyter nbextension enable --py --sys-prefix ipyleaflet\n",
    "```\n",
    "\n",
    "输入经纬度，返回图片"
   ]
  },
  {
   "cell_type": "code",
   "execution_count": 2,
   "metadata": {},
   "outputs": [],
   "source": [
    "from ipyleaflet import Map"
   ]
  },
  {
   "cell_type": "code",
   "execution_count": 11,
   "metadata": {},
   "outputs": [
    {
     "data": {
      "application/vnd.jupyter.widget-view+json": {
       "model_id": "8dcc40412d704e809dbf3917efe9aca0",
       "version_major": 2,
       "version_minor": 0
      },
      "text/html": [
       "<p>Failed to display Jupyter Widget of type <code>Map</code>.</p>\n",
       "<p>\n",
       "  If you're reading this message in Jupyter Notebook or JupyterLab, it may mean\n",
       "  that the widgets JavaScript is still loading. If this message persists, it\n",
       "  likely means that the widgets JavaScript library is either not installed or\n",
       "  not enabled. See the <a href=\"https://ipywidgets.readthedocs.io/en/stable/user_install.html\">Jupyter\n",
       "  Widgets Documentation</a> for setup instructions.\n",
       "</p>\n",
       "<p>\n",
       "  If you're reading this message in another notebook frontend (for example, a static\n",
       "  rendering on GitHub or <a href=\"https://nbviewer.jupyter.org/\">NBViewer</a>),\n",
       "  it may mean that your frontend doesn't currently support widgets.\n",
       "</p>\n"
      ],
      "text/plain": [
       "Map(center=[31.1451, 121.5024], layers=(TileLayer(attribution='Map data (c) <a href=\"https://openstreetmap.org\">OpenStreetMap</a> contributors', options=['attribution', 'detect_retina', 'max_zoom', 'tile_size', 'min_zoom', 'opacity'], url='https://{s}.tile.openstreetmap.org/{z}/{x}/{y}.png'),), layout=Layout(align_self='stretch', height='400px'), options=['zoom_animation_threshold', 'world_copy_jump', 'scroll_wheel_zoom', 'box_zoom', 'tap', 'keyboard_pan_offset', 'inertia', 'center', 'touch_zoom', 'dragging', 'max_zoom', 'bounce_at_zoom_limits', 'zoom', 'tap_tolerance', 'zoom_start', 'inertia_deceleration', 'attribution_control', 'min_zoom', 'close_popup_on_click', 'zoom_control', 'keyboard', 'inertia_max_speed', 'double_click_zoom', 'keyboard_zoom_offset'], zoom=11)"
      ]
     },
     "metadata": {},
     "output_type": "display_data"
    }
   ],
   "source": [
    "Map(center=[31.1451, 121.5024], zoom=11)"
   ]
  },
  {
   "cell_type": "markdown",
   "metadata": {},
   "source": [
    "## bqplot\n",
    "2-D_interactive_data_visualization"
   ]
  },
  {
   "cell_type": "markdown",
   "metadata": {},
   "source": [
    "```conda\n",
    "conda install bqplot\n",
    "jupyter nbextension enable --py --sys-prefix bqplot\n",
    "```"
   ]
  },
  {
   "cell_type": "code",
   "execution_count": 13,
   "metadata": {},
   "outputs": [],
   "source": [
    "%matplotlib inline"
   ]
  },
  {
   "cell_type": "code",
   "execution_count": 15,
   "metadata": {},
   "outputs": [
    {
     "data": {
      "application/vnd.jupyter.widget-view+json": {
       "model_id": "95b51a6e861f40628b1f82e0b3c9df4a",
       "version_major": 2,
       "version_minor": 0
      },
      "text/html": [
       "<p>Failed to display Jupyter Widget of type <code>VBox</code>.</p>\n",
       "<p>\n",
       "  If you're reading this message in Jupyter Notebook or JupyterLab, it may mean\n",
       "  that the widgets JavaScript is still loading. If this message persists, it\n",
       "  likely means that the widgets JavaScript library is either not installed or\n",
       "  not enabled. See the <a href=\"https://ipywidgets.readthedocs.io/en/stable/user_install.html\">Jupyter\n",
       "  Widgets Documentation</a> for setup instructions.\n",
       "</p>\n",
       "<p>\n",
       "  If you're reading this message in another notebook frontend (for example, a static\n",
       "  rendering on GitHub or <a href=\"https://nbviewer.jupyter.org/\">NBViewer</a>),\n",
       "  it may mean that your frontend doesn't currently support widgets.\n",
       "</p>\n"
      ],
      "text/plain": [
       "VBox(children=(Figure(axes=[Axis(orientation='vertical', scale=LinearScale()), ColorAxis(scale=ColorScale()), Axis(scale=LinearScale())], fig_margin={'bottom': 60, 'right': 60, 'left': 60, 'top': 60}, layout=Layout(min_width='125px'), marks=[Scatter(color=array([ 0.81758012, -0.00280109,  0.42939338,  0.27285628, -0.13696381,\n",
       "        1.36672555,  0.08897643,  0.38350937,  1.44949107, -0.02977263,\n",
       "       -0.08112063,  1.13241534, -0.35118866, -1.34423807,  0.1111706 ,\n",
       "       -0.54333872,  0.57906809, -0.78427644,  0.36178925,  1.02604783,\n",
       "        0.66939794,  1.47647359, -0.25454751, -1.18319382, -0.51697936,\n",
       "       -0.38604226, -0.6985289 ,  0.09136918,  1.36318408, -0.94817594,\n",
       "        1.65875757,  1.13798847, -1.59912119,  1.33867319, -0.20310212,\n",
       "       -0.53818132, -0.91900792,  1.89405034, -1.23287834,  1.32898763,\n",
       "        0.40256   , -0.57469684,  1.14138007, -1.29716547, -0.7071614 ,\n",
       "       -1.45145554, -0.33853383,  1.29280971,  1.75759718,  0.41587224,\n",
       "        0.59744706,  2.31695305, -1.57076137,  0.69979789, -0.12374358,\n",
       "        0.78065844,  1.08385387,  1.97343655,  0.63656338, -0.38879282,\n",
       "       -0.12018236, -1.14864562, -0.60184601, -0.73353543, -0.38918375,\n",
       "        0.08905771, -1.56991447, -0.15045036,  0.11190342, -0.03294093,\n",
       "       -0.11418923,  1.19459438, -0.37883577,  0.31160373,  1.10784169,\n",
       "       -0.18800441, -1.3809091 , -0.21392639,  0.91700475, -0.04940905,\n",
       "        0.58079493,  0.20169535, -0.56889528,  1.0628017 , -1.07524197,\n",
       "        0.79265383, -2.52111566,  0.47711974, -1.83553738,  0.63058079,\n",
       "        1.10365829, -1.47580803, -1.14772391,  0.48960627,  0.08443911,\n",
       "        0.92976943,  0.92053341,  0.49211757,  2.36280554,  0.4330487 ]), colors=['DeepSkyBlue'], interactions={'hover': 'tooltip'}, scales={'y': LinearScale(), 'color': ColorScale(), 'x': LinearScale()}, scales_metadata={'skew': {'dimension': 'skew'}, 'color': {'dimension': 'color'}, 'x': {'dimension': 'x', 'orientation': 'horizontal'}, 'rotation': {'dimension': 'rotation'}, 'size': {'dimension': 'size'}, 'y': {'dimension': 'y', 'orientation': 'vertical'}, 'opacity': {'dimension': 'opacity'}}, tooltip_style={'opacity': 0.9}, x=array([-0.13102005,  1.24790708, -0.70703333,  0.94532277,  0.24111845,\n",
       "       -0.87873556, -1.16589098, -0.99654959,  0.73432404,  1.33195488,\n",
       "       -0.23257035, -3.14043029, -1.85233153,  1.66695538,  0.48861794,\n",
       "       -0.8644274 ,  0.24833896,  1.21158692, -0.47312512,  1.27302298,\n",
       "        0.62686396, -0.15345269,  0.71208138,  0.73318306, -1.21660755,\n",
       "       -0.52601886,  0.29852918, -0.17482281,  0.37674344, -2.62377024,\n",
       "       -1.96546514, -0.3216085 ,  0.63314191, -0.06151864,  1.47233714,\n",
       "        1.13422264, -0.8511615 , -2.34703673, -1.37467861,  0.39543243,\n",
       "        0.99314764,  0.25213105, -0.39388962,  0.74327625, -1.38540706,\n",
       "        0.05830155, -1.53101629,  1.72558524, -1.05967866,  1.11356431,\n",
       "        0.83584028, -0.47482007, -1.87272506, -1.53266542, -1.18195941,\n",
       "       -1.20131818,  1.17485995, -0.98043588, -1.24195291,  0.80730123,\n",
       "        0.32804278, -0.87060692, -0.34240625,  0.90691252, -0.5416402 ,\n",
       "       -1.24405088,  1.26891956,  2.17697168,  1.20184276,  0.54253408,\n",
       "       -1.41998833,  1.23536897,  1.72311443,  0.67483655, -0.39258199,\n",
       "        0.07457075,  0.75892703,  2.44839725, -0.11536838, -0.12104748,\n",
       "        0.48659814, -0.27890677,  0.24634371, -2.11374697, -0.06157152,\n",
       "        0.30638924,  0.03517068,  0.98207828, -0.25367399,  0.59269234,\n",
       "       -0.83011886, -0.51159609, -0.23959431,  0.98174519, -0.19606509,\n",
       "        0.7277083 , -0.59340502, -0.029128  , -0.23558886,  0.30402078]), y=array([ 1.32669058,  1.28279304, -0.53218444,  0.68840385,  1.62912331,\n",
       "        0.51015171, -0.04084196,  0.37411771,  0.03794556,  0.83372167,\n",
       "       -0.19366096, -2.38120226,  0.47688515, -0.38575721, -0.3691045 ,\n",
       "        2.16835135, -1.09281737,  1.24880258, -1.79146019,  0.29057208,\n",
       "       -1.21928852, -0.63022395, -0.68560326, -0.67444345,  1.11297191,\n",
       "        0.07225635,  0.0311591 ,  0.92161486,  1.90148052, -0.82864864,\n",
       "        0.25855039,  0.2290205 ,  0.19150114,  0.55823581, -1.79864205,\n",
       "        1.69765085, -0.65174362, -0.64550035,  0.00860313,  0.81012581,\n",
       "       -0.87274474, -0.52664494, -0.22428654, -0.50763033, -0.63839616,\n",
       "       -0.6799011 , -0.12951249,  1.26937582, -0.79974191, -0.47428171,\n",
       "        1.21240708,  0.12559821, -2.01981822,  1.15231832, -0.96255354,\n",
       "        0.86848578,  0.32965311,  1.36574637, -0.54014173,  0.25162046,\n",
       "       -0.75226651,  1.19847562, -0.29305846, -0.69736725, -0.59106207,\n",
       "        0.23287273, -1.95525339,  1.26794601,  1.4537982 ,  0.29671886,\n",
       "       -0.33974116, -0.68410025, -0.7763558 , -0.76349613, -0.97344974,\n",
       "        1.08194073, -0.47782938,  0.48565055,  0.37520879, -0.24400999,\n",
       "        0.04048546, -0.11544097, -1.00031494,  0.48832513,  0.0222119 ,\n",
       "        1.07793667,  0.2485991 , -1.37394006,  0.68345014, -0.51341183,\n",
       "        0.58995817,  1.18549244, -1.56750713, -0.12161814, -0.8251547 ,\n",
       "       -0.04479862,  0.79046073, -1.81757519,  0.1290273 , -0.06684007]))], scale_x=LinearScale(allow_padding=False, max=1.0, min=0.0), scale_y=LinearScale(allow_padding=False, max=1.0, min=0.0), title='Scatter plot with colors'), Toolbar(figure=Figure(axes=[Axis(orientation='vertical', scale=LinearScale()), ColorAxis(scale=ColorScale()), Axis(scale=LinearScale())], fig_margin={'bottom': 60, 'right': 60, 'left': 60, 'top': 60}, layout=Layout(min_width='125px'), marks=[Scatter(color=array([ 0.81758012, -0.00280109,  0.42939338,  0.27285628, -0.13696381,\n",
       "        1.36672555,  0.08897643,  0.38350937,  1.44949107, -0.02977263,\n",
       "       -0.08112063,  1.13241534, -0.35118866, -1.34423807,  0.1111706 ,\n",
       "       -0.54333872,  0.57906809, -0.78427644,  0.36178925,  1.02604783,\n",
       "        0.66939794,  1.47647359, -0.25454751, -1.18319382, -0.51697936,\n",
       "       -0.38604226, -0.6985289 ,  0.09136918,  1.36318408, -0.94817594,\n",
       "        1.65875757,  1.13798847, -1.59912119,  1.33867319, -0.20310212,\n",
       "       -0.53818132, -0.91900792,  1.89405034, -1.23287834,  1.32898763,\n",
       "        0.40256   , -0.57469684,  1.14138007, -1.29716547, -0.7071614 ,\n",
       "       -1.45145554, -0.33853383,  1.29280971,  1.75759718,  0.41587224,\n",
       "        0.59744706,  2.31695305, -1.57076137,  0.69979789, -0.12374358,\n",
       "        0.78065844,  1.08385387,  1.97343655,  0.63656338, -0.38879282,\n",
       "       -0.12018236, -1.14864562, -0.60184601, -0.73353543, -0.38918375,\n",
       "        0.08905771, -1.56991447, -0.15045036,  0.11190342, -0.03294093,\n",
       "       -0.11418923,  1.19459438, -0.37883577,  0.31160373,  1.10784169,\n",
       "       -0.18800441, -1.3809091 , -0.21392639,  0.91700475, -0.04940905,\n",
       "        0.58079493,  0.20169535, -0.56889528,  1.0628017 , -1.07524197,\n",
       "        0.79265383, -2.52111566,  0.47711974, -1.83553738,  0.63058079,\n",
       "        1.10365829, -1.47580803, -1.14772391,  0.48960627,  0.08443911,\n",
       "        0.92976943,  0.92053341,  0.49211757,  2.36280554,  0.4330487 ]), colors=['DeepSkyBlue'], interactions={'hover': 'tooltip'}, scales={'y': LinearScale(), 'color': ColorScale(), 'x': LinearScale()}, scales_metadata={'skew': {'dimension': 'skew'}, 'color': {'dimension': 'color'}, 'x': {'dimension': 'x', 'orientation': 'horizontal'}, 'rotation': {'dimension': 'rotation'}, 'size': {'dimension': 'size'}, 'y': {'dimension': 'y', 'orientation': 'vertical'}, 'opacity': {'dimension': 'opacity'}}, tooltip_style={'opacity': 0.9}, x=array([-0.13102005,  1.24790708, -0.70703333,  0.94532277,  0.24111845,\n",
       "       -0.87873556, -1.16589098, -0.99654959,  0.73432404,  1.33195488,\n",
       "       -0.23257035, -3.14043029, -1.85233153,  1.66695538,  0.48861794,\n",
       "       -0.8644274 ,  0.24833896,  1.21158692, -0.47312512,  1.27302298,\n",
       "        0.62686396, -0.15345269,  0.71208138,  0.73318306, -1.21660755,\n",
       "       -0.52601886,  0.29852918, -0.17482281,  0.37674344, -2.62377024,\n",
       "       -1.96546514, -0.3216085 ,  0.63314191, -0.06151864,  1.47233714,\n",
       "        1.13422264, -0.8511615 , -2.34703673, -1.37467861,  0.39543243,\n",
       "        0.99314764,  0.25213105, -0.39388962,  0.74327625, -1.38540706,\n",
       "        0.05830155, -1.53101629,  1.72558524, -1.05967866,  1.11356431,\n",
       "        0.83584028, -0.47482007, -1.87272506, -1.53266542, -1.18195941,\n",
       "       -1.20131818,  1.17485995, -0.98043588, -1.24195291,  0.80730123,\n",
       "        0.32804278, -0.87060692, -0.34240625,  0.90691252, -0.5416402 ,\n",
       "       -1.24405088,  1.26891956,  2.17697168,  1.20184276,  0.54253408,\n",
       "       -1.41998833,  1.23536897,  1.72311443,  0.67483655, -0.39258199,\n",
       "        0.07457075,  0.75892703,  2.44839725, -0.11536838, -0.12104748,\n",
       "        0.48659814, -0.27890677,  0.24634371, -2.11374697, -0.06157152,\n",
       "        0.30638924,  0.03517068,  0.98207828, -0.25367399,  0.59269234,\n",
       "       -0.83011886, -0.51159609, -0.23959431,  0.98174519, -0.19606509,\n",
       "        0.7277083 , -0.59340502, -0.029128  , -0.23558886,  0.30402078]), y=array([ 1.32669058,  1.28279304, -0.53218444,  0.68840385,  1.62912331,\n",
       "        0.51015171, -0.04084196,  0.37411771,  0.03794556,  0.83372167,\n",
       "       -0.19366096, -2.38120226,  0.47688515, -0.38575721, -0.3691045 ,\n",
       "        2.16835135, -1.09281737,  1.24880258, -1.79146019,  0.29057208,\n",
       "       -1.21928852, -0.63022395, -0.68560326, -0.67444345,  1.11297191,\n",
       "        0.07225635,  0.0311591 ,  0.92161486,  1.90148052, -0.82864864,\n",
       "        0.25855039,  0.2290205 ,  0.19150114,  0.55823581, -1.79864205,\n",
       "        1.69765085, -0.65174362, -0.64550035,  0.00860313,  0.81012581,\n",
       "       -0.87274474, -0.52664494, -0.22428654, -0.50763033, -0.63839616,\n",
       "       -0.6799011 , -0.12951249,  1.26937582, -0.79974191, -0.47428171,\n",
       "        1.21240708,  0.12559821, -2.01981822,  1.15231832, -0.96255354,\n",
       "        0.86848578,  0.32965311,  1.36574637, -0.54014173,  0.25162046,\n",
       "       -0.75226651,  1.19847562, -0.29305846, -0.69736725, -0.59106207,\n",
       "        0.23287273, -1.95525339,  1.26794601,  1.4537982 ,  0.29671886,\n",
       "       -0.33974116, -0.68410025, -0.7763558 , -0.76349613, -0.97344974,\n",
       "        1.08194073, -0.47782938,  0.48565055,  0.37520879, -0.24400999,\n",
       "        0.04048546, -0.11544097, -1.00031494,  0.48832513,  0.0222119 ,\n",
       "        1.07793667,  0.2485991 , -1.37394006,  0.68345014, -0.51341183,\n",
       "        0.58995817,  1.18549244, -1.56750713, -0.12161814, -0.8251547 ,\n",
       "       -0.04479862,  0.79046073, -1.81757519,  0.1290273 , -0.06684007]))], scale_x=LinearScale(allow_padding=False, max=1.0, min=0.0), scale_y=LinearScale(allow_padding=False, max=1.0, min=0.0), title='Scatter plot with colors'))))"
      ]
     },
     "metadata": {},
     "output_type": "display_data"
    }
   ],
   "source": [
    "import numpy as np\n",
    "import bqplot.pyplot as plt\n",
    "\n",
    "size = 100\n",
    "\n",
    "plt.figure(title='Scatter plot with colors')\n",
    "plt.scatter(np.random.randn(size), np.random.randn(size), color=np.random.randn(size))\n",
    "plt.show();"
   ]
  },
  {
   "cell_type": "code",
   "execution_count": null,
   "metadata": {},
   "outputs": [],
   "source": []
  }
 ],
 "metadata": {
  "kernelspec": {
   "display_name": "Python 3",
   "language": "python",
   "name": "python3"
  },
  "language_info": {
   "codemirror_mode": {
    "name": "ipython",
    "version": 3
   },
   "file_extension": ".py",
   "mimetype": "text/x-python",
   "name": "python",
   "nbconvert_exporter": "python",
   "pygments_lexer": "ipython3",
   "version": "3.5.4"
  },
  "toc": {
   "nav_menu": {},
   "number_sections": false,
   "sideBar": true,
   "skip_h1_title": false,
   "toc_cell": false,
   "toc_position": {},
   "toc_section_display": "block",
   "toc_window_display": true
  }
 },
 "nbformat": 4,
 "nbformat_minor": 2
}
