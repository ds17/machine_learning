{
 "cells": [
  {
   "cell_type": "code",
   "execution_count": 2,
   "metadata": {},
   "outputs": [],
   "source": [
    "import urllib3\n",
    "import urllib\n",
    "import time"
   ]
  },
  {
   "cell_type": "code",
   "execution_count": 4,
   "metadata": {
    "collapsed": true
   },
   "outputs": [],
   "source": [
    "http_url = 'https://api-us.faceplusplus.com/facepp/v3/detect'\n",
    "key = \"v1oOVL14u1ph3kI6clvjMro7Hqr6EJ69\"\n",
    "secret = \"XFk2b9ddDVV_8jazntqLXMTyfYdUePld\"\n",
    "filepath = 'Data/ldh1.png'"
   ]
  },
  {
   "cell_type": "code",
   "execution_count": 38,
   "metadata": {
    "collapsed": true
   },
   "outputs": [],
   "source": [
    "boundary = '----------%s' % hex(int(time.time() * 1000))\n",
    "data = []\n",
    "data.append('--%s' % boundary)\n",
    "data.append('Content-Disposition: form-data; name=\"%s\"' % 'api_key')\n",
    "data.append(key)\n",
    "data.append('--%s' % boundary)\n",
    "data.append('Content-Disposition: form-data; name=\"%s\"' % 'api_secret')\n",
    "data.append(secret)\n",
    "data.append('--%s' % boundary)"
   ]
  },
  {
   "cell_type": "code",
   "execution_count": 39,
   "metadata": {},
   "outputs": [
    {
     "data": {
      "text/plain": [
       "['------------0x1659561313d',\n",
       " 'Content-Disposition: form-data; name=\"api_key\"',\n",
       " 'v1oOVL14u1ph3kI6clvjMro7Hqr6EJ69',\n",
       " '------------0x1659561313d',\n",
       " 'Content-Disposition: form-data; name=\"api_secret\"',\n",
       " 'XFk2b9ddDVV_8jazntqLXMTyfYdUePld',\n",
       " '------------0x1659561313d']"
      ]
     },
     "execution_count": 39,
     "metadata": {},
     "output_type": "execute_result"
    }
   ],
   "source": [
    "data"
   ]
  },
  {
   "cell_type": "code",
   "execution_count": 42,
   "metadata": {},
   "outputs": [],
   "source": [
    "fr=open(filepath,'rb')\n",
    "data.append('Content-Disposition: form-data; name=\"%s\"; filename=\"co33.jpg\"' % 'image_file')\n",
    "data.append('Content-Type: %s' % 'application/octet-stream')\n",
    "data.append(fr.read())\n",
    "fr.close()\n",
    "data.append('--%s--' % boundary)"
   ]
  },
  {
   "cell_type": "code",
   "execution_count": 44,
   "metadata": {
    "scrolled": false
   },
   "outputs": [
    {
     "ename": "TypeError",
     "evalue": "sequence item 9: expected str instance, bytes found",
     "output_type": "error",
     "traceback": [
      "\u001b[1;31m---------------------------------------------------------------------------\u001b[0m",
      "\u001b[1;31mTypeError\u001b[0m                                 Traceback (most recent call last)",
      "\u001b[1;32m<ipython-input-44-5bac29bfa216>\u001b[0m in \u001b[0;36m<module>\u001b[1;34m()\u001b[0m\n\u001b[1;32m----> 1\u001b[1;33m \u001b[0mhttp_body\u001b[0m\u001b[1;33m=\u001b[0m\u001b[1;34m''\u001b[0m\u001b[1;33m.\u001b[0m\u001b[0mjoin\u001b[0m\u001b[1;33m(\u001b[0m\u001b[0mdata\u001b[0m\u001b[1;33m)\u001b[0m\u001b[1;33m\u001b[0m\u001b[0m\n\u001b[0m",
      "\u001b[1;31mTypeError\u001b[0m: sequence item 9: expected str instance, bytes found"
     ]
    }
   ],
   "source": [
    "http_body=''.join(data)"
   ]
  },
  {
   "cell_type": "code",
   "execution_count": null,
   "metadata": {
    "collapsed": true
   },
   "outputs": [],
   "source": []
  },
  {
   "cell_type": "code",
   "execution_count": null,
   "metadata": {
    "collapsed": true
   },
   "outputs": [],
   "source": [
    "#buld http request\n",
    "req=urllib3.Request(http_url)\n",
    "#header\n",
    "req.add_header('Content-Type', 'multipart/form-data; boundary=%s' % boundary)\n",
    "req.add_data(http_body)\n",
    "try:\n",
    "\t#post data to server\n",
    "\tresp = urllib2.urlopen(req, timeout=5)\n",
    "\t#get response\n",
    "\tqrcont=resp.read()\n",
    "\tprint qrcont\n",
    "\n",
    "except urllib2.HTTPError as e:\n",
    "    print e.read()"
   ]
  }
 ],
 "metadata": {
  "kernelspec": {
   "display_name": "Python 3",
   "language": "python",
   "name": "python3"
  },
  "language_info": {
   "codemirror_mode": {
    "name": "ipython",
    "version": 3
   },
   "file_extension": ".py",
   "mimetype": "text/x-python",
   "name": "python",
   "nbconvert_exporter": "python",
   "pygments_lexer": "ipython3",
   "version": "3.5.3"
  },
  "toc": {
   "nav_menu": {},
   "number_sections": true,
   "sideBar": true,
   "skip_h1_title": false,
   "toc_cell": false,
   "toc_position": {},
   "toc_section_display": "block",
   "toc_window_display": false
  }
 },
 "nbformat": 4,
 "nbformat_minor": 2
}
