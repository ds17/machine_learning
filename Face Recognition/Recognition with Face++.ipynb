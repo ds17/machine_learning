{
 "cells": [
  {
   "cell_type": "markdown",
   "metadata": {},
   "source": [
    "API Collection：[50种机器学习和预测应用的API，你想要的全都有](https://mp.weixin.qq.com/s?__biz=MjM5MDI1ODUyMA==&mid=2672940875&idx=2&sn=c6f44bdc984d21984bedbe31de231ce2&chksm=bce2f37c8b957a6ac245d08998d56626a1757a68f20d420d3388b728fbdde9ba428083830300&mpshare=1&scene=1&srcid=0602hLGHnlocgPC4wHLOk1HV&pass_ticket=RSg7gJD9M0ZmD3FN38l%2F9k7Eq%2BpXSSsTw4Hq%2FdASw0k%3D#rd)\n",
    "<br>[Face++ API Documents](https://console.faceplusplus.com/documents/5679127)<br>\n",
    "[Face++ API key](https://console.faceplusplus.com/app/apikey/list)"
   ]
  },
  {
   "cell_type": "code",
   "execution_count": 1,
   "metadata": {
    "collapsed": true,
    "scrolled": false
   },
   "outputs": [],
   "source": [
    "import urllib3\n",
    "import time"
   ]
  },
  {
   "cell_type": "code",
   "execution_count": 2,
   "metadata": {
    "collapsed": true
   },
   "outputs": [],
   "source": [
    "from Crypto.Cipher import AES\n",
    "def AES_encode(key,txt):\n",
    "    if len(key)<16:\n",
    "        key=key +'_'+ str(pow(10,16-len(key)-2))\n",
    "    obj=AES.new(key, AES.MODE_ECB)\n",
    "    ciphertext=obj.encrypt(txt)\n",
    "    return ciphertext\n",
    "\n",
    "def AES_decode(key,txt):\n",
    "    if len(key)<16:\n",
    "        key=key +'_'+ str(pow(10,16-len(key)-2))\n",
    "    obj =AES.new(key, AES.MODE_ECB)\n",
    "    detext=obj.decrypt(txt)\n",
    "    \n",
    "    try:\n",
    "        detext=str(detext, encoding = \"utf-8\")\n",
    "    except:\n",
    "        print('密码错误')\n",
    "        return None\n",
    "    return detext"
   ]
  },
  {
   "cell_type": "code",
   "execution_count": 3,
   "metadata": {
    "collapsed": true
   },
   "outputs": [],
   "source": [
    "key_s=b')k\\x9d\\xf2`q\\x8d\\xafFQ\\xb1^\\x03>\\xe3t\\xbf\\xb5\\t\\xbe2\\x19\\x17\\x88\\x14\\xfb~\"\\xd4?+\\x82'\n",
    "secret_s=b'?\\x8aV+f\\xf1\\xf8\\xa8bj\\x177\\x97\\xef\\xf3$u\\xf1A\\x810\\x90\\x8dl\\xd5\\xd6Z\\x0e\\xf7i,\\x87'"
   ]
  },
  {
   "cell_type": "code",
   "execution_count": 4,
   "metadata": {
    "collapsed": true
   },
   "outputs": [],
   "source": [
    "password='jin-7116'"
   ]
  },
  {
   "cell_type": "code",
   "execution_count": 11,
   "metadata": {
    "collapsed": true
   },
   "outputs": [],
   "source": [
    "key= AES_decode(password,key_s)\n",
    "secret = AES_decode(password,secret_s)"
   ]
  },
  {
   "cell_type": "code",
   "execution_count": 12,
   "metadata": {
    "collapsed": true
   },
   "outputs": [],
   "source": [
    "def facer(path,key,secret):\n",
    "    http_url = 'https://api-us.faceplusplus.com/facepp/v3/detect'\n",
    "\n",
    "    filepath = path\n",
    "    boundary = '----------%s' % hex(int(time.time() * 1000))\n",
    "    data = []\n",
    "    data.append('--%s' % boundary)\n",
    "    data.append('Content-Disposition: form-data; name=\"%s\"\\r\\n' % 'api_key')\n",
    "    data.append(key)\n",
    "    data.append('--%s' % boundary)\n",
    "    data.append('Content-Disposition: form-data; name=\"%s\"\\r\\n' % 'api_secret')\n",
    "    data.append(secret)\n",
    "    data.append('--%s' % boundary)\n",
    "    fr=open(filepath,'rb')\n",
    "    data.append('Content-Disposition: form-data; name=\"%s\"; filename=\"co33.jpg\"' % 'image_file')\n",
    "    data.append('Content-Type: %s\\r\\n' % 'application/octet-stream')\n",
    "    data.append(fr.read())\n",
    "    fr.close()\n",
    "    data.append('--%s--\\r\\n' % boundary)\n",
    "\n",
    "    http_body='\\r\\n'.join(data)\n",
    "    #buld http request\n",
    "    req=urllib3.Request(http_url)\n",
    "    #header\n",
    "    req.add_header('Content-Type', 'multipart/form-data; boundary=%s' % boundary)\n",
    "    req.add_data(http_body)\n",
    "    try:\n",
    "        #post data to server\n",
    "        resp = urllib3.urlopen(req, timeout=5)\n",
    "        #get response\n",
    "        qrcont=resp.read()\n",
    "        return qrcont\n",
    "\n",
    "    except urllib3.HTTPError as e:\n",
    "        return e.read()"
   ]
  },
  {
   "cell_type": "code",
   "execution_count": 16,
   "metadata": {
    "scrolled": true
   },
   "outputs": [
    {
     "ename": "TypeError",
     "evalue": "sequence item 9: expected str instance, bytes found",
     "output_type": "error",
     "traceback": [
      "\u001b[1;31m---------------------------------------------------------------------------\u001b[0m",
      "\u001b[1;31mTypeError\u001b[0m                                 Traceback (most recent call last)",
      "\u001b[1;32m<ipython-input-16-82b6de10bcdc>\u001b[0m in \u001b[0;36m<module>\u001b[1;34m()\u001b[0m\n\u001b[0;32m      1\u001b[0m \u001b[0mpath\u001b[0m\u001b[1;33m=\u001b[0m\u001b[1;34m'data/dr2.jpeg'\u001b[0m\u001b[1;33m\u001b[0m\u001b[0m\n\u001b[1;32m----> 2\u001b[1;33m \u001b[0mfacer\u001b[0m\u001b[1;33m(\u001b[0m\u001b[0mpath\u001b[0m\u001b[1;33m,\u001b[0m\u001b[0mkey\u001b[0m\u001b[1;33m,\u001b[0m\u001b[0msecret\u001b[0m\u001b[1;33m)\u001b[0m\u001b[1;33m\u001b[0m\u001b[0m\n\u001b[0m",
      "\u001b[1;32m<ipython-input-12-ad5a95277275>\u001b[0m in \u001b[0;36mfacer\u001b[1;34m(path, key, secret)\u001b[0m\n\u001b[0;32m     19\u001b[0m     \u001b[0mdata\u001b[0m\u001b[1;33m.\u001b[0m\u001b[0mappend\u001b[0m\u001b[1;33m(\u001b[0m\u001b[1;34m'--%s--\\r\\n'\u001b[0m \u001b[1;33m%\u001b[0m \u001b[0mboundary\u001b[0m\u001b[1;33m)\u001b[0m\u001b[1;33m\u001b[0m\u001b[0m\n\u001b[0;32m     20\u001b[0m \u001b[1;33m\u001b[0m\u001b[0m\n\u001b[1;32m---> 21\u001b[1;33m     \u001b[0mhttp_body\u001b[0m\u001b[1;33m=\u001b[0m\u001b[1;34m'\\r\\n'\u001b[0m\u001b[1;33m.\u001b[0m\u001b[0mjoin\u001b[0m\u001b[1;33m(\u001b[0m\u001b[0mdata\u001b[0m\u001b[1;33m)\u001b[0m\u001b[1;33m\u001b[0m\u001b[0m\n\u001b[0m\u001b[0;32m     22\u001b[0m     \u001b[1;31m#buld http request\u001b[0m\u001b[1;33m\u001b[0m\u001b[1;33m\u001b[0m\u001b[0m\n\u001b[0;32m     23\u001b[0m     \u001b[0mreq\u001b[0m\u001b[1;33m=\u001b[0m\u001b[0murllib3\u001b[0m\u001b[1;33m.\u001b[0m\u001b[0mRequest\u001b[0m\u001b[1;33m(\u001b[0m\u001b[0mhttp_url\u001b[0m\u001b[1;33m)\u001b[0m\u001b[1;33m\u001b[0m\u001b[0m\n",
      "\u001b[1;31mTypeError\u001b[0m: sequence item 9: expected str instance, bytes found"
     ]
    }
   ],
   "source": [
    "path='data/dr2.jpeg'\n",
    "facer(path,key,secret)"
   ]
  },
  {
   "cell_type": "code",
   "execution_count": 13,
   "metadata": {},
   "outputs": [],
   "source": [
    "from pprint import pformat\n",
    "\n",
    "\n",
    "def print_result(hit, result):\n",
    "    def encode(obj):\n",
    "        if type(obj) is unicode:\n",
    "            return obj.encode('utf-8')\n",
    "        if type(obj) is dict:\n",
    "            return {encode(v): encode(k) for (v, k) in obj.iteritems()}\n",
    "        if type(obj) is list:\n",
    "            return [encode(i) for i in obj]\n",
    "        return obj\n",
    "    print(hit)\n",
    "    result = encode(result)\n",
    "    print('\\n'.join(\"  \" + i for i in pformat(result, width=75).split('\\n')))"
   ]
  },
  {
   "cell_type": "code",
   "execution_count": 10,
   "metadata": {
    "collapsed": true
   },
   "outputs": [],
   "source": [
    "API_KEY=\"v1oOVL14u1ph3kI6clvjMro7Hqr6EJ69\"\n",
    "API_SECRET = \"XFk2b9ddDVV_8jazntqLXMTyfYdUePld\"\n",
    "api_server_international = 'https://api-us.faceplusplus.com/facepp/v3/'"
   ]
  },
  {
   "cell_type": "code",
   "execution_count": null,
   "metadata": {
    "collapsed": true
   },
   "outputs": [],
   "source": []
  },
  {
   "cell_type": "code",
   "execution_count": 4,
   "metadata": {
    "collapsed": true
   },
   "outputs": [],
   "source": [
    "face_one = \"Data/ldh1.png\"\n",
    "face_two = \"Data/ldh2.jpg\""
   ]
  },
  {
   "cell_type": "code",
   "execution_count": 9,
   "metadata": {},
   "outputs": [],
   "source": [
    "from facepp import facepp"
   ]
  },
  {
   "cell_type": "code",
   "execution_count": 11,
   "metadata": {
    "collapsed": true
   },
   "outputs": [],
   "source": [
    "api = facepp.API(API_KEY, API_SECRET, srv=api_server_international)"
   ]
  },
  {
   "cell_type": "code",
   "execution_count": 14,
   "metadata": {},
   "outputs": [
    {
     "ename": "NameError",
     "evalue": "name 'mimetools' is not defined",
     "output_type": "error",
     "traceback": [
      "\u001b[1;31m---------------------------------------------------------------------------\u001b[0m",
      "\u001b[1;31mNameError\u001b[0m                                 Traceback (most recent call last)",
      "\u001b[1;32m<ipython-input-14-3ea4d056e419>\u001b[0m in \u001b[0;36m<module>\u001b[1;34m()\u001b[0m\n\u001b[1;32m----> 1\u001b[1;33m \u001b[0mret\u001b[0m \u001b[1;33m=\u001b[0m \u001b[0mapi\u001b[0m\u001b[1;33m.\u001b[0m\u001b[0mfaceset\u001b[0m\u001b[1;33m.\u001b[0m\u001b[0mcreate\u001b[0m\u001b[1;33m(\u001b[0m\u001b[0mouter_id\u001b[0m \u001b[1;33m=\u001b[0m \u001b[1;34m'test'\u001b[0m\u001b[1;33m)\u001b[0m\u001b[1;33m\u001b[0m\u001b[0m\n\u001b[0m\u001b[0;32m      2\u001b[0m \u001b[0mprint_result\u001b[0m\u001b[1;33m(\u001b[0m\u001b[1;34m\"faceset create\"\u001b[0m\u001b[1;33m,\u001b[0m \u001b[0mret\u001b[0m\u001b[1;33m)\u001b[0m\u001b[1;33m\u001b[0m\u001b[0m\n",
      "\u001b[1;32mF:\\pyc\\PyCharm\\GitHub\\machine_learning\\Face Recognition\\facepp\\facepp.py\u001b[0m in \u001b[0;36m__call__\u001b[1;34m(self, *args, **kargs)\u001b[0m\n\u001b[0;32m    134\u001b[0m         \u001b[1;32mif\u001b[0m \u001b[0mlen\u001b[0m\u001b[1;33m(\u001b[0m\u001b[0margs\u001b[0m\u001b[1;33m)\u001b[0m\u001b[1;33m:\u001b[0m\u001b[1;33m\u001b[0m\u001b[0m\n\u001b[0;32m    135\u001b[0m             \u001b[1;32mraise\u001b[0m \u001b[0mTypeError\u001b[0m\u001b[1;33m(\u001b[0m\u001b[1;34m'Only keyword arguments are allowed'\u001b[0m\u001b[1;33m)\u001b[0m\u001b[1;33m\u001b[0m\u001b[0m\n\u001b[1;32m--> 136\u001b[1;33m         \u001b[0mform\u001b[0m \u001b[1;33m=\u001b[0m \u001b[0m_MultiPartForm\u001b[0m\u001b[1;33m(\u001b[0m\u001b[1;33m)\u001b[0m\u001b[1;33m\u001b[0m\u001b[0m\n\u001b[0m\u001b[0;32m    137\u001b[0m         \u001b[1;32mfor\u001b[0m \u001b[1;33m(\u001b[0m\u001b[0mk\u001b[0m\u001b[1;33m,\u001b[0m \u001b[0mv\u001b[0m\u001b[1;33m)\u001b[0m \u001b[1;32min\u001b[0m \u001b[0mkargs\u001b[0m\u001b[1;33m.\u001b[0m\u001b[0miteritems\u001b[0m\u001b[1;33m(\u001b[0m\u001b[1;33m)\u001b[0m\u001b[1;33m:\u001b[0m\u001b[1;33m\u001b[0m\u001b[0m\n\u001b[0;32m    138\u001b[0m             \u001b[1;32mif\u001b[0m \u001b[0misinstance\u001b[0m\u001b[1;33m(\u001b[0m\u001b[0mv\u001b[0m\u001b[1;33m,\u001b[0m \u001b[0mFile\u001b[0m\u001b[1;33m)\u001b[0m\u001b[1;33m:\u001b[0m\u001b[1;33m\u001b[0m\u001b[0m\n",
      "\u001b[1;32mF:\\pyc\\PyCharm\\GitHub\\machine_learning\\Face Recognition\\facepp\\facepp.py\u001b[0m in \u001b[0;36m__init__\u001b[1;34m(self)\u001b[0m\n\u001b[0;32m    202\u001b[0m         \u001b[0mself\u001b[0m\u001b[1;33m.\u001b[0m\u001b[0mform_fields\u001b[0m \u001b[1;33m=\u001b[0m \u001b[1;33m[\u001b[0m\u001b[1;33m]\u001b[0m\u001b[1;33m\u001b[0m\u001b[0m\n\u001b[0;32m    203\u001b[0m         \u001b[0mself\u001b[0m\u001b[1;33m.\u001b[0m\u001b[0mfiles\u001b[0m \u001b[1;33m=\u001b[0m \u001b[1;33m[\u001b[0m\u001b[1;33m]\u001b[0m\u001b[1;33m\u001b[0m\u001b[0m\n\u001b[1;32m--> 204\u001b[1;33m         \u001b[0mself\u001b[0m\u001b[1;33m.\u001b[0m\u001b[0mboundary\u001b[0m \u001b[1;33m=\u001b[0m \u001b[0mmimetools\u001b[0m\u001b[1;33m.\u001b[0m\u001b[0mchoose_boundary\u001b[0m\u001b[1;33m(\u001b[0m\u001b[1;33m)\u001b[0m\u001b[1;33m\u001b[0m\u001b[0m\n\u001b[0m\u001b[0;32m    205\u001b[0m         \u001b[1;32mreturn\u001b[0m\u001b[1;33m\u001b[0m\u001b[0m\n\u001b[0;32m    206\u001b[0m \u001b[1;33m\u001b[0m\u001b[0m\n",
      "\u001b[1;31mNameError\u001b[0m: name 'mimetools' is not defined"
     ]
    }
   ],
   "source": [
    "ret = api.faceset.create(outer_id = 'test')\n",
    "print_result(\"faceset create\", ret)"
   ]
  },
  {
   "cell_type": "code",
   "execution_count": null,
   "metadata": {
    "collapsed": true
   },
   "outputs": [],
   "source": []
  }
 ],
 "metadata": {
  "kernelspec": {
   "display_name": "Python 3",
   "language": "python",
   "name": "python3"
  },
  "language_info": {
   "codemirror_mode": {
    "name": "ipython",
    "version": 3
   },
   "file_extension": ".py",
   "mimetype": "text/x-python",
   "name": "python",
   "nbconvert_exporter": "python",
   "pygments_lexer": "ipython3",
   "version": "3.5.3"
  },
  "toc": {
   "nav_menu": {},
   "number_sections": false,
   "sideBar": true,
   "skip_h1_title": false,
   "toc_cell": false,
   "toc_position": {},
   "toc_section_display": "block",
   "toc_window_display": true
  }
 },
 "nbformat": 4,
 "nbformat_minor": 2
}
